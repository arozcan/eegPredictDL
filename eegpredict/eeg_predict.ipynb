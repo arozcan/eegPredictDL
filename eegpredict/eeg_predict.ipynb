{
 "cells": [
  {
   "cell_type": "code",
   "execution_count": null,
   "metadata": {},
   "outputs": [
    {
     "ename": "ImportError",
     "evalue": "No module named functions",
     "traceback": [
      "\u001b[1;31m\u001b[0m",
      "\u001b[1;31mImportError\u001b[0mTraceback (most recent call last)",
      "\u001b[1;32m<ipython-input-1-1ae109867a13>\u001b[0m in \u001b[0;36m<module>\u001b[1;34m()\u001b[0m\n\u001b[0;32m      3\u001b[0m \u001b[1;33m\u001b[0m\u001b[0m\n\u001b[0;32m      4\u001b[0m \u001b[1;32mimport\u001b[0m \u001b[0mos\u001b[0m\u001b[1;33m\u001b[0m\u001b[0m\n\u001b[1;32m----> 5\u001b[1;33m \u001b[1;32mfrom\u001b[0m \u001b[0mfunctions\u001b[0m \u001b[1;32mimport\u001b[0m \u001b[0mglobals\u001b[0m\u001b[1;33m\u001b[0m\u001b[0m\n\u001b[0m\u001b[0;32m      6\u001b[0m \u001b[1;32mfrom\u001b[0m \u001b[0mfunctions\u001b[0m\u001b[1;33m.\u001b[0m\u001b[0mgen_data\u001b[0m \u001b[1;32mimport\u001b[0m \u001b[0mgen_data\u001b[0m\u001b[1;33m\u001b[0m\u001b[0m\n\u001b[0;32m      7\u001b[0m \u001b[1;32mfrom\u001b[0m \u001b[0mfunctions\u001b[0m\u001b[1;33m.\u001b[0m\u001b[0mparams\u001b[0m \u001b[1;32mimport\u001b[0m \u001b[0minit_model_parameters\u001b[0m\u001b[1;33m,\u001b[0m \u001b[0minit_feature_types\u001b[0m\u001b[1;33m,\u001b[0m \u001b[0minit_params\u001b[0m\u001b[1;33m\u001b[0m\u001b[0m\n",
      "\u001b[1;31mImportError\u001b[0m: No module named functions"
     ],
     "output_type": "error"
    }
   ],
   "source": [
    "%matplotlib inline\n",
    "import numpy as np\n",
    "import itertools\n",
    "from functions.utils import merge_dicts\n",
    "from eeg_predict import do_job"
   ]
  },
  {
   "cell_type": "code",
   "execution_count": 1,
   "metadata": {},
   "outputs": [],
   "source": [
    "# model parameters\n",
    "modelName = {0: 'model_svm',\n",
    "             1: 'model_custom_mlp',\n",
    "             2: 'model_custom_mlp_multi',\n",
    "             3: 'model_cnn_basic',\n",
    "             4: 'model_cnn',\n",
    "             5: 'model_cnn_max',\n",
    "             6: 'model_cnn_conv1d',\n",
    "             7: 'model_cnn_lstm',\n",
    "             8: 'model_cnn_mix',\n",
    "             9: 'model_cnn_lstm_hybrid',\n",
    "             10: 'model_cnn3d',\n",
    "             11: 'model_cnn3d_new'}\n",
    "\n",
    "pixelCount = {0: 20,\n",
    "              1: [4, 5],\n",
    "              2: [8, 8],\n",
    "              3: [16, 16]}"
   ]
  },
  {
   "cell_type": "code",
   "execution_count": null,
   "metadata": {},
   "outputs": [
    {
     "ename": "NameError",
     "evalue": "name 'np' is not defined",
     "traceback": [
      "\u001b[1;31m\u001b[0m",
      "\u001b[1;31mNameError\u001b[0mTraceback (most recent call last)",
      "\u001b[1;32m<ipython-input-3-7a27d651a6e7>\u001b[0m in \u001b[0;36m<module>\u001b[1;34m()\u001b[0m\n\u001b[0;32m      1\u001b[0m \u001b[1;31m# subject list\u001b[0m\u001b[1;33m\u001b[0m\u001b[1;33m\u001b[0m\u001b[0m\n\u001b[1;32m----> 2\u001b[1;33m \u001b[0msubjectList\u001b[0m \u001b[1;33m=\u001b[0m \u001b[0mnp\u001b[0m\u001b[1;33m.\u001b[0m\u001b[0marray\u001b[0m\u001b[1;33m(\u001b[0m\u001b[1;33m[\u001b[0m\u001b[1;36m1\u001b[0m\u001b[1;33m,\u001b[0m \u001b[1;36m2\u001b[0m\u001b[1;33m,\u001b[0m \u001b[1;36m3\u001b[0m\u001b[1;33m,\u001b[0m \u001b[1;36m5\u001b[0m\u001b[1;33m,\u001b[0m \u001b[1;36m7\u001b[0m\u001b[1;33m,\u001b[0m \u001b[1;36m9\u001b[0m\u001b[1;33m,\u001b[0m \u001b[1;36m10\u001b[0m\u001b[1;33m,\u001b[0m \u001b[1;36m13\u001b[0m\u001b[1;33m,\u001b[0m \u001b[1;36m14\u001b[0m\u001b[1;33m,\u001b[0m \u001b[1;36m16\u001b[0m\u001b[1;33m,\u001b[0m \u001b[1;36m17\u001b[0m\u001b[1;33m,\u001b[0m \u001b[1;36m18\u001b[0m\u001b[1;33m,\u001b[0m \u001b[1;36m20\u001b[0m\u001b[1;33m,\u001b[0m \u001b[1;36m21\u001b[0m\u001b[1;33m,\u001b[0m \u001b[1;36m23\u001b[0m\u001b[1;33m]\u001b[0m\u001b[1;33m)\u001b[0m\u001b[1;33m\u001b[0m\u001b[0m\n\u001b[0m",
      "\u001b[1;31mNameError\u001b[0m: name 'np' is not defined"
     ],
     "output_type": "error"
    }
   ],
   "source": [
    "# subject list\n",
    "subjectList = np.array([1, 2, 3, 5, 7, 9, 10, 13, 14, 16, 17, 18, 20, 21, 23])"
   ]
  },
  {
   "cell_type": "code",
   "execution_count": 4,
   "metadata": {},
   "outputs": [],
   "source": [
    "# Train with single parameters\n",
    "trainWithSingleParams = False\n",
    "if trainWithSingleParams:\n",
    "    do_job(job=\"predict\", predictParams={\"subject\": 2, \"modelName\": modelName[10], \"pixelCount\": pixelCount[2],\n",
    "                                         \"preictalLen\": 30, \"excludedLen\": 240, \"onlineWeights\": False, \"l2\": 0.0,\n",
    "                                         \"earlyStopping\": True, \"adaptiveL2\": False, \"evalExcluded\": True})"
   ]
  },
  {
   "cell_type": "code",
   "execution_count": 5,
   "metadata": {},
   "outputs": [],
   "source": [
    "#Plot train results\n",
    "plotResults = False\n",
    "if plotResults:\n",
    "    do_job(job=\"plot\", plotTitle= [\"subject\", \"modelName\", \"preictalLen\"],\n",
    "           plotSet=[{\"modelName\": modelName[1], \"pixelCount\": pixelCount[0], \"subject\": 2, \"excludedLen\": 240, \"evalExcluded\": False}])"
   ]
  },
  {
   "cell_type": "code",
   "execution_count": 6,
   "metadata": {},
   "outputs": [],
   "source": [
    "# Train with various parameters\n",
    "trainWithVariousParams = False\n",
    "if trainWithVariousParams:\n",
    "    subjectList = [{\"subject\": subject} for subject in subjectList]\n",
    "\n",
    "    modelList = [{\"modelName\": modelName[1], \"pixelCount\": pixelCount[0]},\n",
    "                 {\"modelName\": modelName[4], \"pixelCount\": pixelCount[2]},\n",
    "                 {\"modelName\": modelName[10], \"pixelCount\": pixelCount[2]}]\n",
    "\n",
    "    timingList = [{\"preictalLen\": 30, \"excludedLen\": 60, \"onlineWeights\": False},\n",
    "                  {\"preictalLen\": 30, \"excludedLen\": 120, \"onlineWeights\": False},\n",
    "                  {\"preictalLen\": 30, \"excludedLen\": 240, \"onlineWeights\": False},\n",
    "                  {\"preictalLen\": 60, \"excludedLen\": 120, \"onlineWeights\": False},\n",
    "                  {\"preictalLen\": 60, \"excludedLen\": 120, \"onlineWeights\": True},\n",
    "                  {\"preictalLen\": 60, \"excludedLen\": 240, \"onlineWeights\": False},\n",
    "                  {\"preictalLen\": 60, \"excludedLen\": 240, \"onlineWeights\": True}]\n",
    "\n",
    "    trainList = [{\"l2\": 0, \"earlyStopping\": True, \"adaptiveL2\": False},\n",
    "                 {\"l2\": 0.01, \"earlyStopping\": True, \"adaptiveL2\": False}]\n",
    "\n",
    "\n",
    "\n",
    "    trialParams = itertools.product(*[timingList, trainList, subjectList, modelList])\n",
    "    for trialParam in trialParams:\n",
    "        do_job(job=\"predict\", predictParams=merge_dicts(trialParam))"
   ]
  },
  {
   "cell_type": "code",
   "execution_count": 7,
   "metadata": {},
   "outputs": [],
   "source": [
    "# Compare train results\n",
    "compareResults = False\n",
    "if compareResults:\n",
    "    for i in subjectList:\n",
    "        do_job(job=\"compare\", plotLabels=[\"modelName\", \"onlineWeights\", \"l2\"], plotTitle=[\"subject\"],\n",
    "               compareSet=[\n",
    "                   {\"modelName\": modelName[1], \"pixelCount\": pixelCount[0], \"subject\": i, \"excludedLen\": 240,\n",
    "                    \"adaptiveL2\": False, \"onlineWeights\": False, \"preictalLen\": 60},\n",
    "                   {\"modelName\": modelName[4], \"pixelCount\": pixelCount[2], \"subject\": i, \"excludedLen\": 240,\n",
    "                    \"adaptiveL2\": False, \"onlineWeights\": False, \"preictalLen\": 60},\n",
    "                   {\"modelName\": modelName[10], \"pixelCount\": pixelCount[2], \"subject\": i, \"excludedLen\": 240,\n",
    "                    \"adaptiveL2\": False, \"onlineWeights\": False, \"preictalLen\": 60}\n",
    "                   ])"
   ]
  },
  {
   "cell_type": "code",
   "execution_count": 8,
   "metadata": {},
   "outputs": [
    {
     "ename": "NameError",
     "evalue": "name 'subjectList' is not defined",
     "traceback": [
      "\u001b[1;31m\u001b[0m",
      "\u001b[1;31mNameError\u001b[0mTraceback (most recent call last)",
      "\u001b[1;32m<ipython-input-8-a6a66a383e51>\u001b[0m in \u001b[0;36m<module>\u001b[1;34m()\u001b[0m\n\u001b[0;32m      2\u001b[0m \u001b[0mcompareWithVariousParams\u001b[0m \u001b[1;33m=\u001b[0m \u001b[0mTrue\u001b[0m\u001b[1;33m\u001b[0m\u001b[0m\n\u001b[0;32m      3\u001b[0m \u001b[1;32mif\u001b[0m \u001b[0mcompareWithVariousParams\u001b[0m\u001b[1;33m:\u001b[0m\u001b[1;33m\u001b[0m\u001b[0m\n\u001b[1;32m----> 4\u001b[1;33m     \u001b[0msubjectList\u001b[0m \u001b[1;33m=\u001b[0m \u001b[1;33m[\u001b[0m\u001b[1;33m{\u001b[0m\u001b[1;34m\"subject\"\u001b[0m\u001b[1;33m:\u001b[0m \u001b[0msubject\u001b[0m\u001b[1;33m}\u001b[0m \u001b[1;32mfor\u001b[0m \u001b[0msubject\u001b[0m \u001b[1;32min\u001b[0m \u001b[0msubjectList\u001b[0m\u001b[1;33m]\u001b[0m\u001b[1;33m\u001b[0m\u001b[0m\n\u001b[0m\u001b[0;32m      5\u001b[0m \u001b[1;33m\u001b[0m\u001b[0m\n\u001b[0;32m      6\u001b[0m     modelList = [{\"modelName\": modelName[1], \"pixelCount\": pixelCount[0]},\n",
      "\u001b[1;31mNameError\u001b[0m: name 'subjectList' is not defined"
     ],
     "output_type": "error"
    }
   ],
   "source": [
    "# Compare with various parameters\n",
    "compareWithVariousParams = True\n",
    "if compareWithVariousParams:\n",
    "    subjectList = [{\"subject\": subject} for subject in subjectList]\n",
    "\n",
    "    modelList = [{\"modelName\": modelName[1], \"pixelCount\": pixelCount[0]},\n",
    "                 {\"modelName\": modelName[4], \"pixelCount\": pixelCount[2]},\n",
    "                 {\"modelName\": modelName[10], \"pixelCount\": pixelCount[2]}]\n",
    "\n",
    "    timingList = [{\"preictalLen\": 30, \"excludedLen\": 60, \"onlineWeights\": False},\n",
    "                  {\"preictalLen\": 30, \"excludedLen\": 120, \"onlineWeights\": False},\n",
    "                  {\"preictalLen\": 30, \"excludedLen\": 240, \"onlineWeights\": False},\n",
    "                  {\"preictalLen\": 60, \"excludedLen\": 120, \"onlineWeights\": False},\n",
    "                  {\"preictalLen\": 60, \"excludedLen\": 120, \"onlineWeights\": True},\n",
    "                  {\"preictalLen\": 60, \"excludedLen\": 240, \"onlineWeights\": False},\n",
    "                  {\"preictalLen\": 60, \"excludedLen\": 240, \"onlineWeights\": True}]\n",
    "\n",
    "    trainList = [{\"l2\": 0, \"earlyStopping\": True, \"adaptiveL2\": False},\n",
    "                 {\"l2\": 0.01, \"earlyStopping\": True, \"adaptiveL2\": False}]\n",
    "\n",
    "\n",
    "\n",
    "    compareParams = [timingList, trainList, subjectList, modelList]\n",
    "    do_job(job=\"compare_various\", compareParams=compareParams,\n",
    "           validParams=[\"subject\", \"modelName\", \"preictalLen,excludedLen,onlineWeights\", \"l2\"],\n",
    "           selectSet=[ timingList,\n",
    "                       subjectList,\n",
    "                       [{\"subject\":1}]\n",
    "                       ])"
   ]
  },
  {
   "cell_type": "code",
   "execution_count": null,
   "metadata": {},
   "outputs": [],
   "source": [
    ""
   ]
  }
 ],
 "metadata": {
  "kernelspec": {
   "display_name": "Python 2",
   "language": "python",
   "name": "python2"
  },
  "language_info": {
   "codemirror_mode": {
    "name": "ipython",
    "version": 2.0
   },
   "file_extension": ".py",
   "mimetype": "text/x-python",
   "name": "python",
   "nbconvert_exporter": "python",
   "pygments_lexer": "ipython2",
   "version": "2.7.6"
  }
 },
 "nbformat": 4,
 "nbformat_minor": 0
}